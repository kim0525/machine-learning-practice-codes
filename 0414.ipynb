{
 "cells": [
  {
   "cell_type": "code",
   "execution_count": 2,
   "id": "ee3d9dc4",
   "metadata": {},
   "outputs": [],
   "source": [
    "\n",
    "# 넘파이를 이용한  MLP 구현\n",
    "\n",
    "import numpy as np\n",
    "# 시그모이드 함수\n",
    "def actf(x):\n",
    "    return 1/(1+np.exp(-x))\n",
    "\n",
    "# 시그모이드 함수의 미분치\n",
    "def actf_deriv(x):\n",
    "    return x*(1-x)\n",
    "\n",
    "# 입력유닛의 개수, 은닉유닛의 개수, 출력유닛의 개수\n",
    "inputs, hiddens, outputs = 2, 2, 1\n",
    "learning_rate=0.2\n",
    "\n",
    "# 훈련 샘플과 정답\n",
    "X = np.array([[0, 0], [0, 1], [1, 0], [1, 1]])\n",
    "T = np.array([[1], [0], [0], [1]])\n"
   ]
  },
  {
   "cell_type": "code",
   "execution_count": 3,
   "id": "b377e24e",
   "metadata": {},
   "outputs": [],
   "source": [
    "\n",
    "# 순방향 전파 구현\n",
    "\n",
    "W1 = np.array([[0.10,0.20], [0.30,0.40]])\n",
    "W2 = np.array([[0.50],[0.60]])\n",
    "B1 = np.array([0.1, 0.2])\n",
    "B2 = np.array([0.3])\n",
    "\n",
    "# 순방향 전파 계산\n",
    "def predict(x):\n",
    "    layer0 = x # 입력을 layer0에 대입한다.\n",
    "    Z1 = np.dot(layer0, W1)+B1 # 행렬의 곱을 계산한다.\n",
    "    layer1 = actf(Z1) # 활성화 함수를 적용한다.\n",
    "    Z2 = np.dot(layer1, W2)+B2 # 행렬의 곱을 계산한다.\n",
    "    layer2 = actf(Z2) # 활성화 함수를 적용한다.\n",
    "    return layer0, layer1, layer2\n"
   ]
  },
  {
   "cell_type": "code",
   "execution_count": 5,
   "id": "6dcbc4a9",
   "metadata": {},
   "outputs": [],
   "source": [
    "# 역방향 전파 계산\n",
    "def fit():\n",
    "    global W1, W2, B1, B2 # 우리는 외부에 정의된 변수를 변경해야 한다.\n",
    "    for i in range(90000): # 9만번 반복한다.\n",
    "        for x, y in zip(X, T): # 학습 샘플을 하나씩 꺼낸다.\n",
    "            x = np.reshape(x, (1, -1)) # 2차원 행렬로 만든다. ①\n",
    "            y = np.reshape(y, (1, -1)) # 2차원 행렬로 만든다.\n",
    "            \n",
    "            layer0, layer1, layer2 = predict(x) # 순방향 계산\n",
    "            layer2_error = layer2-y # 오차 계산\n",
    "            layer2_delta = layer2_error*actf_deriv(layer2) # 출력층의 델타 계산\n",
    "            layer1_error = np.dot(layer2_delta, W2.T) # 은닉층의 오차 계산 ②\n",
    "            layer1_delta = layer1_error*actf_deriv(layer1) # 은닉층의 델타 계산 ③\n",
    "            \n",
    "            W2 += -learning_rate*np.dot(layer1.T, layer2_delta) # ④\n",
    "            W1 += -learning_rate*np.dot(layer0.T, layer1_delta) #\n",
    "            B2 += -learning_rate*np.sum(layer2_delta, axis=0) # ⑤\n",
    "            B1 += -learning_rate*np.sum(layer1_delta, axis=0) "
   ]
  },
  {
   "cell_type": "code",
   "execution_count": null,
   "id": "f9af1aec",
   "metadata": {},
   "outputs": [],
   "source": [
    "def test():\n",
    "    for x, y in zip(X, T):\n",
    "        x = np.reshape(x, (1, -1)) # 하나의 샘플을 꺼내서 2차원 행렬로 만든다.\n",
    "        layer0, layer1, layer2 = predict(x)\n",
    "        print(x, y, layer2) # 출력층의 값을 출력해본다.\n",
    "fit()\n",
    "test()"
   ]
  },
  {
   "cell_type": "code",
   "execution_count": null,
   "id": "64d3dd79",
   "metadata": {},
   "outputs": [],
   "source": []
  }
 ],
 "metadata": {
  "kernelspec": {
   "display_name": "Python 3 (ipykernel)",
   "language": "python",
   "name": "python3"
  },
  "language_info": {
   "codemirror_mode": {
    "name": "ipython",
    "version": 3
   },
   "file_extension": ".py",
   "mimetype": "text/x-python",
   "name": "python",
   "nbconvert_exporter": "python",
   "pygments_lexer": "ipython3",
   "version": "3.9.7"
  }
 },
 "nbformat": 4,
 "nbformat_minor": 5
}
